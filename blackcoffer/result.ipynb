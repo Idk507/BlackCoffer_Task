{
 "cells": [
  {
   "cell_type": "code",
   "execution_count": 17,
   "metadata": {},
   "outputs": [],
   "source": [
    "import pandas as pd\n",
    "import os\n",
    "from textblob import TextBlob\n",
    "import nltk\n",
    "from textstat import flesch_kincaid_grade, syllable_count\n",
    "import spacy"
   ]
  },
  {
   "cell_type": "code",
   "execution_count": 18,
   "metadata": {},
   "outputs": [],
   "source": [
    "#!pip install textstat\n"
   ]
  },
  {
   "cell_type": "code",
   "execution_count": 19,
   "metadata": {},
   "outputs": [],
   "source": [
    "input_directory = 'extracted_articles'\n",
    "output_structure_file = 'Output Data Structure.xlsx'\n",
    "output_file = 'output.xlsx'\n"
   ]
  },
  {
   "cell_type": "code",
   "execution_count": 20,
   "metadata": {},
   "outputs": [
    {
     "name": "stderr",
     "output_type": "stream",
     "text": [
      "[nltk_data] Downloading package punkt to\n",
      "[nltk_data]     C:\\Users\\danus\\AppData\\Roaming\\nltk_data...\n",
      "[nltk_data]   Package punkt is already up-to-date!\n"
     ]
    },
    {
     "data": {
      "text/plain": [
       "True"
      ]
     },
     "execution_count": 20,
     "metadata": {},
     "output_type": "execute_result"
    }
   ],
   "source": [
    "nltk.download('punkt')"
   ]
  },
  {
   "cell_type": "code",
   "execution_count": 21,
   "metadata": {},
   "outputs": [],
   "source": [
    "output_structure_df = pd.read_excel(output_structure_file)"
   ]
  },
  {
   "cell_type": "code",
   "execution_count": 22,
   "metadata": {},
   "outputs": [],
   "source": [
    "output_df = pd.DataFrame(columns=output_structure_df.columns)"
   ]
  },
  {
   "cell_type": "code",
   "execution_count": 23,
   "metadata": {},
   "outputs": [
    {
     "name": "stderr",
     "output_type": "stream",
     "text": [
      "[nltk_data] Downloading package punkt to\n",
      "[nltk_data]     C:\\Users\\danus\\AppData\\Roaming\\nltk_data...\n",
      "[nltk_data]   Package punkt is already up-to-date!\n"
     ]
    }
   ],
   "source": [
    "nltk.download('punkt')\n",
    "nlp = spacy.load('en_core_web_sm')"
   ]
  },
  {
   "cell_type": "code",
   "execution_count": 24,
   "metadata": {},
   "outputs": [
    {
     "name": "stderr",
     "output_type": "stream",
     "text": [
      "C:\\Users\\danus\\AppData\\Local\\Temp\\ipykernel_28724\\1800083285.py:56: FutureWarning: The behavior of DataFrame concatenation with empty or all-NA entries is deprecated. In a future version, this will no longer exclude empty or all-NA columns when determining the result dtypes. To retain the old behavior, exclude the relevant entries before the concat operation.\n",
      "  output_df = pd.concat([output_df, pd.DataFrame(data, index=[0])], ignore_index=True)\n"
     ]
    },
    {
     "name": "stdout",
     "output_type": "stream",
     "text": [
      "Text analysis completed. Results saved in output.xlsx\n"
     ]
    }
   ],
   "source": [
    "\n",
    "for filename in os.listdir(input_directory):\n",
    "    if filename.endswith('.txt'):\n",
    "        file_path = os.path.join(input_directory, filename)\n",
    "\n",
    "        with open(file_path, 'r', encoding='utf-8') as file:\n",
    "            text = file.read()\n",
    "\n",
    "        \n",
    "        analysis = TextBlob(text)\n",
    "\n",
    "        \n",
    "        tokens = nltk.word_tokenize(text)\n",
    "\n",
    "        \n",
    "        complex_word_count = 0\n",
    "        for token in tokens:\n",
    "            if flesch_kincaid_grade(token) > 10:  \n",
    "                complex_word_count += 1\n",
    "        percentage_complex_words = (complex_word_count / len(tokens)) * 100 if len(tokens) > 0 else 0\n",
    "\n",
    "        \n",
    "        fog_index = flesch_kincaid_grade(text)\n",
    "\n",
    "        \n",
    "        syllables = syllable_count(text)\n",
    "        syllables_per_word = syllables / len(tokens) if len(tokens) > 0 else 0\n",
    "        #print(syllables_per_word)\n",
    "        num_words = len(tokens)\n",
    "        num_sentences = len(nltk.sent_tokenize(text))\n",
    "        doc = nlp(text)\n",
    "        num_entities = len(doc.ents)\n",
    "        \n",
    "        word_length = sum(len(word) for word in tokens) / num_words if num_words > 0 else 0\n",
    "        data = {\n",
    "            'URL_ID': filename[:-4],\n",
    "            'POSITIVE SCORE': analysis.sentiment.polarity,\n",
    "            'NEGATIVE SCORE': analysis.sentiment.subjectivity,\n",
    "            'POLARITY SCORE': analysis.sentiment.polarity,\n",
    "            'SUBJECTIVITY SCORE': analysis.sentiment.subjectivity,\n",
    "            'AVG SENTENCE LENGTH': len(nltk.sent_tokenize(text)),\n",
    "            'PERCENTAGE OF COMPLEX WORDS': percentage_complex_words,\n",
    "            'FOG INDEX': fog_index,\n",
    "            'AVG NUMBER OF WORDS PER SENTENCE': len(tokens) / len(nltk.sent_tokenize(text)),\n",
    "            'COMPLEX WORD COUNT': complex_word_count,\n",
    "            'WORD COUNT': len(tokens),\n",
    "            'SYLLABLE PER WORD': syllables_per_word,\n",
    "            'PERSONAL PRONOUNS': text.lower().count('i') + text.lower().count('me') + text.lower().count('my'),\n",
    "            'AVG WORD LENGTH': sum(len(word) for word in tokens) / len(tokens) if len(tokens) > 0 else 0,\n",
    "            'Num_Words': num_words,\n",
    "            'Num_Sentences': num_sentences,\n",
    "            'Word_Length': word_length,\n",
    "            'Num_Entities': num_entities,\n",
    "        }\n",
    "\n",
    "        #\n",
    "        output_df = pd.concat([output_df, pd.DataFrame(data, index=[0])], ignore_index=True)\n",
    "\n",
    "\n",
    "output_df.to_excel(output_file, index=False)\n",
    "\n",
    "print(f'Text analysis completed. Results saved in {output_file}')\n"
   ]
  },
  {
   "cell_type": "code",
   "execution_count": null,
   "metadata": {},
   "outputs": [],
   "source": []
  }
 ],
 "metadata": {
  "kernelspec": {
   "display_name": "my_gpu",
   "language": "python",
   "name": "python3"
  },
  "language_info": {
   "codemirror_mode": {
    "name": "ipython",
    "version": 3
   },
   "file_extension": ".py",
   "mimetype": "text/x-python",
   "name": "python",
   "nbconvert_exporter": "python",
   "pygments_lexer": "ipython3",
   "version": "3.9.18"
  }
 },
 "nbformat": 4,
 "nbformat_minor": 2
}
